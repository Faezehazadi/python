{
 "cells": [
  {
   "cell_type": "code",
   "execution_count": 1,
   "metadata": {},
   "outputs": [],
   "source": [
    "import cv2\n",
    "import numpy as np\n",
    "import matplotlib.pyplot as plt"
   ]
  },
  {
   "cell_type": "code",
   "execution_count": 2,
   "metadata": {},
   "outputs": [
    {
     "data": {
      "text/plain": [
       "True"
      ]
     },
     "execution_count": 2,
     "metadata": {},
     "output_type": "execute_result"
    }
   ],
   "source": [
    "img_superman = cv2.imread(\"input/superman.png\")\n",
    "img_superman = cv2.resize(img_superman,(600,500))\n",
    "img_city = cv2.imread('input/city.jpg')\n",
    "img_city = cv2.resize(img_city,(600,500))\n",
    "img_hsv = cv2.cvtColor(img_superman,cv2.COLOR_BGR2HSV)\n",
    "\n",
    "h,s,v = cv2.split(img_hsv)\n",
    "for i in range (img_superman.shape[0]) :\n",
    "    for j in range (img_superman.shape[1]) :\n",
    "        if 36 < h [i, j] < 80 and v [i, j] > 50 :\n",
    "            img_superman[i, j] = img_city[i, j]\n",
    "cv2.imwrite('output/superman_above_city.png',img_superman)"
   ]
  }
 ],
 "metadata": {
  "kernelspec": {
   "display_name": "Python 3",
   "language": "python",
   "name": "python3"
  },
  "language_info": {
   "codemirror_mode": {
    "name": "ipython",
    "version": 3
   },
   "file_extension": ".py",
   "mimetype": "text/x-python",
   "name": "python",
   "nbconvert_exporter": "python",
   "pygments_lexer": "ipython3",
   "version": "3.11.8"
  }
 },
 "nbformat": 4,
 "nbformat_minor": 2
}
